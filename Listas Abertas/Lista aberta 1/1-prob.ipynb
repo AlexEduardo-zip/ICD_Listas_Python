{
 "cells": [
  {
   "cell_type": "markdown",
   "id": "33135adb",
   "metadata": {},
   "source": [
    "# Usiminas: Residência em Ciência de Dados\n",
    "\n",
    "**Disciplina:** Probabilidade e Análise de Dados com Python\n",
    "\n",
    "**Professores:** Flávio Figueiredo e Pedro Melo\n",
    "\n",
    "**Aula 8:** Probabilidade"
   ]
  },
  {
   "cell_type": "code",
   "execution_count": 1,
   "id": "30bca95c",
   "metadata": {},
   "outputs": [],
   "source": [
    "import pandas as pd\n",
    "import matplotlib.pyplot as plt\n",
    "import seaborn as sns\n",
    "import scipy.stats as stats\n",
    "import numpy as np"
   ]
  },
  {
   "cell_type": "markdown",
   "id": "6d3c2826",
   "metadata": {},
   "source": [
    "## Questão 1 -  Calculando probabilidades e probabilidades condicionais\n",
    "\n",
    "\n",
    "|$$\\,\\,\\,x\\,\\,\\,$$ | $$\\,\\,\\,y\\,\\,\\,$$ | $$\\mathbb{P}(X,Y)$$|\n",
    "|:----------------:|:-----------------:|:------------------:|\n",
    "|        0         |         0         |         0.050      |\n",
    "|        0         |         1         |         0.025      |\n",
    "|        0         |         2         |         0.075      |\n",
    "|        0         |         3         |         0.100      |\n",
    "|        1         |         0         |         0.130      |\n",
    "|        1         |         1         |         0.090      |\n",
    "|        1         |         2         |         0.150      |\n",
    "|        1         |         3         |         0.022      |\n",
    "|        2         |         0         |         0.030      |\n",
    "|        2         |         1         |         0.046      |\n",
    "|        2         |         2         |         0.110      |\n",
    "|        2         |         3         |         0.015      |\n",
    "|        3         |         0         |         0.010      |\n",
    "|        3         |         1         |         0.094      |\n",
    "|        3         |         2         |         0.005      |\n",
    "|        3         |         3         |         0.048      |\n",
    "\n",
    "Considere o conjunto de dados acima para responder às seguintes perguntas. Na célula a seguir, construímos o dataframe `dados` com as mesmas informações da tabela mostrada."
   ]
  },
  {
   "cell_type": "code",
   "execution_count": 2,
   "id": "2314ada9",
   "metadata": {},
   "outputs": [
    {
     "data": {
      "text/html": [
       "<div>\n",
       "<style scoped>\n",
       "    .dataframe tbody tr th:only-of-type {\n",
       "        vertical-align: middle;\n",
       "    }\n",
       "\n",
       "    .dataframe tbody tr th {\n",
       "        vertical-align: top;\n",
       "    }\n",
       "\n",
       "    .dataframe thead th {\n",
       "        text-align: right;\n",
       "    }\n",
       "</style>\n",
       "<table border=\"1\" class=\"dataframe\">\n",
       "  <thead>\n",
       "    <tr style=\"text-align: right;\">\n",
       "      <th></th>\n",
       "      <th>x</th>\n",
       "      <th>y</th>\n",
       "      <th>P(X,Y)</th>\n",
       "    </tr>\n",
       "  </thead>\n",
       "  <tbody>\n",
       "    <tr>\n",
       "      <th>0</th>\n",
       "      <td>0</td>\n",
       "      <td>0</td>\n",
       "      <td>0.050</td>\n",
       "    </tr>\n",
       "    <tr>\n",
       "      <th>1</th>\n",
       "      <td>0</td>\n",
       "      <td>1</td>\n",
       "      <td>0.025</td>\n",
       "    </tr>\n",
       "    <tr>\n",
       "      <th>2</th>\n",
       "      <td>0</td>\n",
       "      <td>2</td>\n",
       "      <td>0.075</td>\n",
       "    </tr>\n",
       "    <tr>\n",
       "      <th>3</th>\n",
       "      <td>0</td>\n",
       "      <td>3</td>\n",
       "      <td>0.100</td>\n",
       "    </tr>\n",
       "    <tr>\n",
       "      <th>4</th>\n",
       "      <td>1</td>\n",
       "      <td>0</td>\n",
       "      <td>0.130</td>\n",
       "    </tr>\n",
       "    <tr>\n",
       "      <th>5</th>\n",
       "      <td>1</td>\n",
       "      <td>1</td>\n",
       "      <td>0.090</td>\n",
       "    </tr>\n",
       "    <tr>\n",
       "      <th>6</th>\n",
       "      <td>1</td>\n",
       "      <td>2</td>\n",
       "      <td>0.150</td>\n",
       "    </tr>\n",
       "    <tr>\n",
       "      <th>7</th>\n",
       "      <td>1</td>\n",
       "      <td>3</td>\n",
       "      <td>0.022</td>\n",
       "    </tr>\n",
       "    <tr>\n",
       "      <th>8</th>\n",
       "      <td>2</td>\n",
       "      <td>0</td>\n",
       "      <td>0.030</td>\n",
       "    </tr>\n",
       "    <tr>\n",
       "      <th>9</th>\n",
       "      <td>2</td>\n",
       "      <td>1</td>\n",
       "      <td>0.046</td>\n",
       "    </tr>\n",
       "    <tr>\n",
       "      <th>10</th>\n",
       "      <td>2</td>\n",
       "      <td>2</td>\n",
       "      <td>0.110</td>\n",
       "    </tr>\n",
       "    <tr>\n",
       "      <th>11</th>\n",
       "      <td>2</td>\n",
       "      <td>3</td>\n",
       "      <td>0.015</td>\n",
       "    </tr>\n",
       "    <tr>\n",
       "      <th>12</th>\n",
       "      <td>3</td>\n",
       "      <td>0</td>\n",
       "      <td>0.010</td>\n",
       "    </tr>\n",
       "    <tr>\n",
       "      <th>13</th>\n",
       "      <td>3</td>\n",
       "      <td>1</td>\n",
       "      <td>0.094</td>\n",
       "    </tr>\n",
       "    <tr>\n",
       "      <th>14</th>\n",
       "      <td>3</td>\n",
       "      <td>2</td>\n",
       "      <td>0.005</td>\n",
       "    </tr>\n",
       "    <tr>\n",
       "      <th>15</th>\n",
       "      <td>3</td>\n",
       "      <td>3</td>\n",
       "      <td>0.048</td>\n",
       "    </tr>\n",
       "  </tbody>\n",
       "</table>\n",
       "</div>"
      ],
      "text/plain": [
       "    x  y  P(X,Y)\n",
       "0   0  0   0.050\n",
       "1   0  1   0.025\n",
       "2   0  2   0.075\n",
       "3   0  3   0.100\n",
       "4   1  0   0.130\n",
       "5   1  1   0.090\n",
       "6   1  2   0.150\n",
       "7   1  3   0.022\n",
       "8   2  0   0.030\n",
       "9   2  1   0.046\n",
       "10  2  2   0.110\n",
       "11  2  3   0.015\n",
       "12  3  0   0.010\n",
       "13  3  1   0.094\n",
       "14  3  2   0.005\n",
       "15  3  3   0.048"
      ]
     },
     "execution_count": 2,
     "metadata": {},
     "output_type": "execute_result"
    }
   ],
   "source": [
    "dados = pd.DataFrame({'x':np.array([[0]*4,[1]*4,[2]*4,[3]*4]).flatten(), \n",
    "                      'y':list(range(4))*4,\n",
    "                      'P(X,Y)':[0.05, 0.025, 0.075, 0.1, 0.13, 0.09, 0.15, 0.022, 0.03, 0.046, 0.11, 0.015, 0.010, 0.094, 0.005, 0.048]\n",
    "                     })\n",
    "dados"
   ]
  },
  {
   "cell_type": "markdown",
   "id": "04b07ec9",
   "metadata": {},
   "source": [
    "#### a) Crie uma função para calcular a distribuição de probabilidades de uma das variáveis do conjunto de dados mostrado acima. Teste sua função para a variável x.\n",
    "\n",
    "A função deve se chamar `distribuicao`, retornar uma lista contendo as probabilidades e receber os parâmetros:\n",
    "> * **v** = _string_ representando o nome da coluna da variável que se deseja calcular as probabilidades\n",
    "> * **p** = _string_ representando o nome da coluna das probabilidades\n",
    "> * **df** = dataframe contendo o conjunto de dados"
   ]
  },
  {
   "cell_type": "code",
   "execution_count": 9,
   "id": "0f42a48d",
   "metadata": {},
   "outputs": [
    {
     "data": {
      "text/plain": [
       "[0.05, 0.025, 0.075, 0.1]"
      ]
     },
     "execution_count": 9,
     "metadata": {},
     "output_type": "execute_result"
    }
   ],
   "source": [
    "def distribuicao(v, p, df):\n",
    "    # v = string representando o nome da coluna da variável que se deseja calcular as probabilidades \n",
    "    # p = string representando o nome da coluna das probabilidades\n",
    "    # df = dataframe contendo o conjunto de dados\n",
    "    \n",
    "    prob = []\n",
    "    # COMPLETAR FUNÇÃO\n",
    "    for i in range(len(df)): \n",
    "        if df[v][i] == 0:\n",
    "            prob.append(df[p][i]) \n",
    "    return prob\n",
    "\n",
    "# CHAMAR FUNÇÃO\n",
    "distribuicao('x', 'P(X,Y)', dados)"
   ]
  },
  {
   "cell_type": "markdown",
   "id": "3f9c7bfe",
   "metadata": {},
   "source": [
    "#### b) Crie uma função para calcular a distribuição de probabilidade condicional $\\mathbb{P}(Y \\,|\\, X=x)$. Teste sua função para x = 1."
   ]
  },
  {
   "cell_type": "code",
   "execution_count": 4,
   "id": "80950d33",
   "metadata": {},
   "outputs": [
    {
     "data": {
      "text/plain": [
       "[0.05, 0.13, 0.03, 0.01]"
      ]
     },
     "execution_count": 4,
     "metadata": {},
     "output_type": "execute_result"
    }
   ],
   "source": [
    "def condicional(v1, v2, b, p, df):\n",
    "    # v1 = string representando o nome da coluna da variável que se deseja calcular as probabilidades \n",
    "    # v2 = string representando o nome da coluna da variável cujo valor será fixado\n",
    "    # b = valor fixo da variável v2\n",
    "    # p = string representando o nome da coluna das probabilidades\n",
    "    # df = dataframe contendo o conjunto de dados\n",
    "    \n",
    "    prob = []\n",
    "    # COMPLETAR FUNÇÃO\n",
    "    for i in range(len(df)):\n",
    "        if df[v2][i] == b:\n",
    "            prob.append(df[p][i])\n",
    "    return prob\n",
    "\n",
    "# CHAMAR FUNÇÃO\n",
    "condicional('x', 'y', 0, 'P(X,Y)', dados)"
   ]
  },
  {
   "cell_type": "markdown",
   "id": "860115a4",
   "metadata": {},
   "source": [
    "#### c) Crie uma função que retorne a probabilidade de uma das variáveis ser maior que um valor passado como parâmetro. Teste sua função para o caso $\\mathbb{P}(X>1)$."
   ]
  },
  {
   "cell_type": "code",
   "execution_count": 5,
   "id": "9432ecaa",
   "metadata": {},
   "outputs": [
    {
     "data": {
      "text/plain": [
       "[0.03, 0.046, 0.11, 0.015, 0.01, 0.094, 0.005, 0.048]"
      ]
     },
     "execution_count": 5,
     "metadata": {},
     "output_type": "execute_result"
    }
   ],
   "source": [
    "def probabilidade_maior_que(v, a, p, df):\n",
    "    # v = string representando o nome da coluna da variável que se deseja calcular as probabilidades \n",
    "    # a = valor ao qual a variável v deve ser superior\n",
    "    # p = string representando o nome da coluna das probabilidades\n",
    "    # df = dataframe contendo o conjunto de dados\n",
    "    \n",
    "    # COMPLETAR FUNÇÃO\n",
    "    prob = []\n",
    "    for i in range(len(df)):\n",
    "        if df[v][i] > a:\n",
    "            prob.append(df[p][i])\n",
    "    return prob\n",
    "\n",
    "# CHAMAR FUNÇÃO\n",
    "probabilidade_maior_que('x', 1, 'P(X,Y)', dados)"
   ]
  },
  {
   "cell_type": "markdown",
   "id": "004e7b88",
   "metadata": {},
   "source": [
    "## Questão 2 - (In)Dependência de variáveis aleatórias\n",
    "\n",
    "Como vimos na aula, dizemos que dois eventos $E$ e $F$ são independentes se a probabilidade de ambos acontecerem é o produto das probabilidades que cada um acontece:\n",
    "\n",
    "$$P(E,F) = P(E)P(F)$$\n",
    "\n",
    "#### a) Considerando o conjunto de dados da questão anterior, crie uma fórmula que retorne `True` caso as variáveis x e y sejam dependentes ou `False` caso contrário."
   ]
  },
  {
   "cell_type": "code",
   "execution_count": 6,
   "id": "758a863f",
   "metadata": {},
   "outputs": [
    {
     "name": "stdout",
     "output_type": "stream",
     "text": [
      "As variáveis são dependentes\n"
     ]
    }
   ],
   "source": [
    "def dependentes(v1, v2, p, df):\n",
    "    # v1 = string representando o nome da coluna da primeira variável que se deseja verificar (in)dependência\n",
    "    # v2 = string representando o nome da coluna da segunda variável que se deseja verificar (in)dependência\n",
    "    # p = string representando o nome da coluna das probabilidades\n",
    "    # df = dataframe contendo o conjunto de dados\n",
    "    \n",
    "    # COMPLETAR FUNÇÃO\n",
    "    prob1 = []\n",
    "    prob2 = []\n",
    "    for i in range(len(df)):\n",
    "        if df[v1][i] == 0:\n",
    "            prob1.append(df[p][i])\n",
    "        if df[v2][i] == 0:\n",
    "            prob2.append(df[p][i])\n",
    "    if prob1 == prob2:\n",
    "        print('As variáveis são independentes')\n",
    "    else:\n",
    "        print('As variáveis são dependentes')\n",
    "    return\n",
    "\n",
    "# CHAMAR FUNÇÃO\n",
    "dependentes('x', 'y', 'P(X,Y)', dados)"
   ]
  },
  {
   "cell_type": "markdown",
   "id": "93bf93ce",
   "metadata": {},
   "source": [
    "#### b) Utilizando sua função, verifique se os pares de variáveis (x,y), (y,z) e (x,z) são independentes no conjunto de dados `d2`. Se necessário, realize alterações em sua função."
   ]
  },
  {
   "cell_type": "code",
   "execution_count": 7,
   "id": "1d8c1659",
   "metadata": {},
   "outputs": [
    {
     "data": {
      "text/html": [
       "<div>\n",
       "<style scoped>\n",
       "    .dataframe tbody tr th:only-of-type {\n",
       "        vertical-align: middle;\n",
       "    }\n",
       "\n",
       "    .dataframe tbody tr th {\n",
       "        vertical-align: top;\n",
       "    }\n",
       "\n",
       "    .dataframe thead th {\n",
       "        text-align: right;\n",
       "    }\n",
       "</style>\n",
       "<table border=\"1\" class=\"dataframe\">\n",
       "  <thead>\n",
       "    <tr style=\"text-align: right;\">\n",
       "      <th></th>\n",
       "      <th>x</th>\n",
       "      <th>y</th>\n",
       "      <th>z</th>\n",
       "      <th>P(X,Y,Z)</th>\n",
       "    </tr>\n",
       "  </thead>\n",
       "  <tbody>\n",
       "    <tr>\n",
       "      <th>0</th>\n",
       "      <td>1</td>\n",
       "      <td>1</td>\n",
       "      <td>1</td>\n",
       "      <td>2.831080e-03</td>\n",
       "    </tr>\n",
       "    <tr>\n",
       "      <th>1</th>\n",
       "      <td>1</td>\n",
       "      <td>1</td>\n",
       "      <td>2</td>\n",
       "      <td>1.075810e-02</td>\n",
       "    </tr>\n",
       "    <tr>\n",
       "      <th>2</th>\n",
       "      <td>1</td>\n",
       "      <td>1</td>\n",
       "      <td>3</td>\n",
       "      <td>2.044040e-02</td>\n",
       "    </tr>\n",
       "    <tr>\n",
       "      <th>3</th>\n",
       "      <td>1</td>\n",
       "      <td>1</td>\n",
       "      <td>4</td>\n",
       "      <td>2.589117e-02</td>\n",
       "    </tr>\n",
       "    <tr>\n",
       "      <th>4</th>\n",
       "      <td>1</td>\n",
       "      <td>1</td>\n",
       "      <td>5</td>\n",
       "      <td>2.459661e-02</td>\n",
       "    </tr>\n",
       "    <tr>\n",
       "      <th>5</th>\n",
       "      <td>1</td>\n",
       "      <td>1</td>\n",
       "      <td>6</td>\n",
       "      <td>1.869343e-02</td>\n",
       "    </tr>\n",
       "    <tr>\n",
       "      <th>6</th>\n",
       "      <td>1</td>\n",
       "      <td>1</td>\n",
       "      <td>7</td>\n",
       "      <td>1.183917e-02</td>\n",
       "    </tr>\n",
       "    <tr>\n",
       "      <th>7</th>\n",
       "      <td>1</td>\n",
       "      <td>1</td>\n",
       "      <td>8</td>\n",
       "      <td>6.426978e-03</td>\n",
       "    </tr>\n",
       "    <tr>\n",
       "      <th>8</th>\n",
       "      <td>1</td>\n",
       "      <td>1</td>\n",
       "      <td>9</td>\n",
       "      <td>3.052814e-03</td>\n",
       "    </tr>\n",
       "    <tr>\n",
       "      <th>9</th>\n",
       "      <td>1</td>\n",
       "      <td>1</td>\n",
       "      <td>10</td>\n",
       "      <td>1.288966e-03</td>\n",
       "    </tr>\n",
       "    <tr>\n",
       "      <th>10</th>\n",
       "      <td>1</td>\n",
       "      <td>1</td>\n",
       "      <td>11</td>\n",
       "      <td>4.898071e-04</td>\n",
       "    </tr>\n",
       "    <tr>\n",
       "      <th>11</th>\n",
       "      <td>1</td>\n",
       "      <td>1</td>\n",
       "      <td>12</td>\n",
       "      <td>1.692061e-04</td>\n",
       "    </tr>\n",
       "    <tr>\n",
       "      <th>12</th>\n",
       "      <td>1</td>\n",
       "      <td>1</td>\n",
       "      <td>13</td>\n",
       "      <td>5.358193e-05</td>\n",
       "    </tr>\n",
       "    <tr>\n",
       "      <th>13</th>\n",
       "      <td>1</td>\n",
       "      <td>1</td>\n",
       "      <td>14</td>\n",
       "      <td>1.566241e-05</td>\n",
       "    </tr>\n",
       "    <tr>\n",
       "      <th>14</th>\n",
       "      <td>1</td>\n",
       "      <td>1</td>\n",
       "      <td>15</td>\n",
       "      <td>4.251226e-06</td>\n",
       "    </tr>\n",
       "    <tr>\n",
       "      <th>15</th>\n",
       "      <td>1</td>\n",
       "      <td>1</td>\n",
       "      <td>16</td>\n",
       "      <td>1.076977e-06</td>\n",
       "    </tr>\n",
       "    <tr>\n",
       "      <th>16</th>\n",
       "      <td>1</td>\n",
       "      <td>1</td>\n",
       "      <td>17</td>\n",
       "      <td>2.557821e-07</td>\n",
       "    </tr>\n",
       "    <tr>\n",
       "      <th>17</th>\n",
       "      <td>1</td>\n",
       "      <td>1</td>\n",
       "      <td>18</td>\n",
       "      <td>5.717482e-08</td>\n",
       "    </tr>\n",
       "    <tr>\n",
       "      <th>18</th>\n",
       "      <td>1</td>\n",
       "      <td>1</td>\n",
       "      <td>19</td>\n",
       "      <td>1.207024e-08</td>\n",
       "    </tr>\n",
       "    <tr>\n",
       "      <th>19</th>\n",
       "      <td>1</td>\n",
       "      <td>1</td>\n",
       "      <td>20</td>\n",
       "      <td>2.414048e-09</td>\n",
       "    </tr>\n",
       "  </tbody>\n",
       "</table>\n",
       "</div>"
      ],
      "text/plain": [
       "    x  y   z      P(X,Y,Z)\n",
       "0   1  1   1  2.831080e-03\n",
       "1   1  1   2  1.075810e-02\n",
       "2   1  1   3  2.044040e-02\n",
       "3   1  1   4  2.589117e-02\n",
       "4   1  1   5  2.459661e-02\n",
       "5   1  1   6  1.869343e-02\n",
       "6   1  1   7  1.183917e-02\n",
       "7   1  1   8  6.426978e-03\n",
       "8   1  1   9  3.052814e-03\n",
       "9   1  1  10  1.288966e-03\n",
       "10  1  1  11  4.898071e-04\n",
       "11  1  1  12  1.692061e-04\n",
       "12  1  1  13  5.358193e-05\n",
       "13  1  1  14  1.566241e-05\n",
       "14  1  1  15  4.251226e-06\n",
       "15  1  1  16  1.076977e-06\n",
       "16  1  1  17  2.557821e-07\n",
       "17  1  1  18  5.717482e-08\n",
       "18  1  1  19  1.207024e-08\n",
       "19  1  1  20  2.414048e-09"
      ]
     },
     "execution_count": 7,
     "metadata": {},
     "output_type": "execute_result"
    }
   ],
   "source": [
    "d2 = pd.read_csv('https://raw.githubusercontent.com/fccarvalho2/Viz/main/Q2.csv',index_col=0)\n",
    "d2.head(20)"
   ]
  },
  {
   "cell_type": "markdown",
   "id": "722237ff",
   "metadata": {},
   "source": [
    "## Questão 3 - Simulação de variáveis aleatórias\n",
    "\n",
    "Como vimos em aula, podemos criar funções que nos auxiliam a simular dados de uma distribuição. Entretanto, várias destas funções já estão implementadas na biblioteca `scipy`, o que nos permite gerar dados que seguem uma distribuição de probabilidades de interesse. Utilizando esta biblioteca, simule 1000 amostras das seguintes variáveis:\n",
    "\n",
    "#### a) N, que segue a distribuição de poisson (discreta), com média $\\mu = 2.5$. Em seguida, gere um histograma com estes resultados e plote a função de densidade acumulada."
   ]
  },
  {
   "cell_type": "code",
   "execution_count": 12,
   "id": "8bbe0c00",
   "metadata": {},
   "outputs": [
    {
     "data": {
      "image/png": "[encoded data removed]",
      "text/plain": [
       "<Figure size 640x480 with 1 Axes>"
      ]
     },
     "metadata": {},
     "output_type": "display_data"
    }
   ],
   "source": [
    "# Utilize scipy para simular 1000 amostras de n, com media u=2.5 em seguida plor um histograma das amostras\n",
    "# COMPLETAR CÓDIGO\n",
    "n = stats.poisson.rvs(2.5, size=1000)\n",
    "plt.hist(n, bins=100)\n",
    "plt.show()\n"
   ]
  },
  {
   "cell_type": "markdown",
   "id": "6eed1110",
   "metadata": {},
   "source": [
    "#### b) G, que segue a distribuição log gamma (contínua), com 4 graus de liberdade. Em seguida, gere um histograma com estes resultados e plote a função de densidade acumulada."
   ]
  },
  {
   "cell_type": "code",
   "execution_count": null,
   "id": "e13c50e9",
   "metadata": {},
   "outputs": [],
   "source": []
  },
  {
   "cell_type": "markdown",
   "id": "e83efe9b",
   "metadata": {},
   "source": [
    "## Desafio - Aplicação dos conhecimentos a dados reais\n",
    "\n",
    "Sabemos que vários fatores relacionados ao estilo de vida de cada um podem ter um grande impacto no risco de doenças cardiovasculares ou infarto. Para este exercício, utilizaremos um banco de dados público dos Centros para Controles de Doenças dos Estados Unidos (CDC), que realizou pesquisa em 2015 a respeito dos hábitos de vida de 253.680 americanos. Este conjunto de dados possui 22 colunas com dados numéricos, em sua maioria categóricos binários (0 para não e 1 para sim). \n",
    "\n",
    "Desejamos utilizar nossos conhecimentos adquiridos até aqui para responder às seguintes perguntas:"
   ]
  },
  {
   "cell_type": "code",
   "execution_count": null,
   "id": "f64e9cbd",
   "metadata": {},
   "outputs": [],
   "source": [
    "heart = pd.read_csv('https://raw.githubusercontent.com/fccarvalho2/Viz/main/heart_disease_kaggle.csv')\n",
    "heart.head(20)"
   ]
  },
  {
   "cell_type": "markdown",
   "id": "a3c71a1a",
   "metadata": {},
   "source": [
    "**a)** Qual a probabilidade de um entrevistado ter sofrido ataque cardíaco ou possuir doença cardiaca (HeartDiseaseorAttack = 1)?\n"
   ]
  },
  {
   "cell_type": "code",
   "execution_count": null,
   "id": "303efb72",
   "metadata": {},
   "outputs": [],
   "source": []
  },
  {
   "cell_type": "markdown",
   "id": "23adfe34",
   "metadata": {},
   "source": [
    "**b)** Qual a probabilidade de um fumante (smoker = 1) ter sofrido ataque cardíaco ou possuir doença cardíaca? E qual a probabilidade para um não fumante?\n"
   ]
  },
  {
   "cell_type": "code",
   "execution_count": null,
   "id": "202a4d4e",
   "metadata": {},
   "outputs": [],
   "source": []
  },
  {
   "cell_type": "markdown",
   "id": "271a896e",
   "metadata": {},
   "source": [
    "**c)** Qual a probabilidade de um entrevistado que não faz atividade física e não come frutas regularmente (PhysActivity = 0 e Fruits = 0, respectivamente) ser cardíaco?\n"
   ]
  },
  {
   "cell_type": "code",
   "execution_count": null,
   "id": "992ca8fc",
   "metadata": {},
   "outputs": [],
   "source": []
  },
  {
   "cell_type": "markdown",
   "id": "9e210264",
   "metadata": {},
   "source": [
    "**d)** Qual a probabilidade de um entrevistado com obesidade (BMI $\\geq$ 30.0) ser cardíaco?\n"
   ]
  },
  {
   "cell_type": "code",
   "execution_count": null,
   "id": "bf0a0af3",
   "metadata": {},
   "outputs": [],
   "source": []
  },
  {
   "cell_type": "markdown",
   "id": "f0a61c94",
   "metadata": {},
   "source": [
    "**e)** Com base nos resultados anteriores, qual dos fatores de risco analisados mais contribui para risco de desenvolver doenças cardíacas ou infarto?"
   ]
  },
  {
   "cell_type": "code",
   "execution_count": null,
   "id": "920c8abf",
   "metadata": {},
   "outputs": [],
   "source": []
  }
 ],
 "metadata": {
  "kernelspec": {
   "display_name": "Python 3 (ipykernel)",
   "language": "python",
   "name": "python3"
  },
  "language_info": {
   "codemirror_mode": {
    "name": "ipython",
    "version": 3
   },
   "file_extension": ".py",
   "mimetype": "text/x-python",
   "name": "python",
   "nbconvert_exporter": "python",
   "pygments_lexer": "ipython3",
   "version": "3.11.4"
  }
 },
 "nbformat": 4,
 "nbformat_minor": 5
}
