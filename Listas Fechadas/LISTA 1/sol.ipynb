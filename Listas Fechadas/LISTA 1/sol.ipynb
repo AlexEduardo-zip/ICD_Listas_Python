{
  "cells": [
    {
      "cell_type": "markdown",
      "metadata": {
        "id": "QH0z5zZHPnGm"
      },
      "source": [
        "# Lista 01 - Introdução e Revisão Numpy\n",
        "\n",
        "[NumPy](http://numpy.org) é um pacote incrivelmente poderoso em Python, onipresente em qualquer projeto de ciência de dados. Possui forte integração com o [Pandas](http://pandas.pydata.org), outra ferramenta que iremos abordar na matéria. NumPy adiciona suporte para matrizes multidimensionais e funções matemáticas que permitem que você execute facilmente cálculos de álgebra linear. Este notebook será uma coleção de exemplos de álgebra linear computados usando NumPy.\n",
        "\n",
        "## Numpy\n",
        "\n",
        "Para fazer uso de Numpy precisamos importar a biblioteca"
      ]
    },
    {
      "cell_type": "code",
      "execution_count": 61,
      "metadata": {
        "id": "7rLxx0MyPnGr"
      },
      "outputs": [],
      "source": [
        "# -*- coding: utf8\n",
        "\n",
        "import numpy as np"
      ]
    },
    {
      "cell_type": "markdown",
      "metadata": {
        "id": "Xd7BGoE9PnGt"
      },
      "source": [
        "Quando pensamos no lado prático de ciência de dados, um aspecto chave que ajuda na implementação de novos algoritmos é a vetorização. De forma simples, vetorização consiste do uso de tipos como **escalar**, **vetor** e **matriz** para realizar uma computação mais eficaz (em tempo de execução).\n",
        "\n",
        "Uma matriz é uma coleção de valores, normalmente representada por uma grade 𝑚 × 𝑛, onde 𝑚 é o número de linhas e 𝑛 é o número de colunas. Os comprimentos das arestas 𝑚 e 𝑛 não precisam ser necessariamente diferentes. Se tivermos 𝑚 = 𝑛, chamamos isso de matriz quadrada. Um caso particularmente interessante de uma matriz é quando 𝑚 = 1 ou 𝑛 = 1. Nesse caso, temos um caso especial de uma matriz que chamamos de vetor. Embora haja um objeto de matriz em NumPy, faremos tudo usando matrizes NumPy porque elas podem ter dimensões maiores que 2.\n",
        "\n",
        "1. **Escalar:** Um vetor de zero dimensões"
      ]
    },
    {
      "cell_type": "code",
      "execution_count": 62,
      "metadata": {
        "colab": {
          "base_uri": "https://localhost:8080/"
        },
        "id": "pkBh6IV2PnGu",
        "outputId": "cceb90ea-7962-4643-d999-988f3e8e220d"
      },
      "outputs": [
        {
          "output_type": "execute_result",
          "data": {
            "text/plain": [
              "1"
            ]
          },
          "metadata": {},
          "execution_count": 62
        }
      ],
      "source": [
        "1"
      ]
    },
    {
      "cell_type": "code",
      "execution_count": 63,
      "metadata": {
        "colab": {
          "base_uri": "https://localhost:8080/"
        },
        "id": "s4GCPpUkPnGv",
        "outputId": "acd71556-a75b-4ac2-84f8-4e1bb89416a7"
      },
      "outputs": [
        {
          "output_type": "execute_result",
          "data": {
            "text/plain": [
              "array(1)"
            ]
          },
          "metadata": {},
          "execution_count": 63
        }
      ],
      "source": [
        "np.array(1)"
      ]
    },
    {
      "cell_type": "markdown",
      "metadata": {
        "id": "RagXYogWPnGw"
      },
      "source": [
        "2. **Vetor:** Representa uma dimensão"
      ]
    },
    {
      "cell_type": "markdown",
      "metadata": {
        "id": "mFFUVbNUPnGw"
      },
      "source": [
        "Abaixo vamos criar um vetor simples. Inicialmente, vamos criar uma lista."
      ]
    },
    {
      "cell_type": "code",
      "execution_count": 64,
      "metadata": {
        "id": "YItqz4wzPnGx"
      },
      "outputs": [],
      "source": [
        "data_list = [3.5, 5, 2, 8, 4.2]"
      ]
    },
    {
      "cell_type": "markdown",
      "metadata": {
        "id": "ykThom4NPnGy"
      },
      "source": [
        "Observe o tipo da mesma."
      ]
    },
    {
      "cell_type": "code",
      "execution_count": 65,
      "metadata": {
        "colab": {
          "base_uri": "https://localhost:8080/"
        },
        "id": "y-1jv1fWPnGy",
        "outputId": "5dcdca34-af5f-4ef6-fda1-33cac4a8140f"
      },
      "outputs": [
        {
          "output_type": "execute_result",
          "data": {
            "text/plain": [
              "list"
            ]
          },
          "metadata": {},
          "execution_count": 65
        }
      ],
      "source": [
        "type(data_list)"
      ]
    },
    {
      "cell_type": "markdown",
      "metadata": {
        "id": "r-lmJBn_PnGz"
      },
      "source": [
        "Embora vetores e listas sejam parecidos, vetores Numpy são otimizados para operações de Álgebra Linear. Ciência de Dados faz bastante uso de tais operações, sendo este um dos motivos da dependência em Numpy.\n",
        "\n",
        "Abaixo criamos um vetor."
      ]
    },
    {
      "cell_type": "code",
      "execution_count": 66,
      "metadata": {
        "colab": {
          "base_uri": "https://localhost:8080/"
        },
        "id": "HQbk4oSrPnGz",
        "outputId": "32b38f61-6741-4ea4-960d-5fd13ac40faa"
      },
      "outputs": [
        {
          "output_type": "stream",
          "name": "stdout",
          "text": [
            "[3.5 5.  2.  8.  4.2]\n",
            "<class 'numpy.ndarray'>\n"
          ]
        }
      ],
      "source": [
        "data = np.array(data_list)\n",
        "print(data)\n",
        "print(type(data))"
      ]
    },
    {
      "cell_type": "markdown",
      "metadata": {
        "id": "niE8fprjPnG0"
      },
      "source": [
        "Observe como podemos somar o mesmo com um número. Não é possível fazer tal operação com listas."
      ]
    },
    {
      "cell_type": "code",
      "execution_count": 67,
      "metadata": {
        "colab": {
          "base_uri": "https://localhost:8080/"
        },
        "id": "zbe6SCmwPnG0",
        "outputId": "f3a3e823-8bc0-48de-b0fe-dd899df870cf"
      },
      "outputs": [
        {
          "output_type": "execute_result",
          "data": {
            "text/plain": [
              "array([10.5, 12. ,  9. , 15. , 11.2])"
            ]
          },
          "metadata": {},
          "execution_count": 67
        }
      ],
      "source": [
        "data + 7"
      ]
    },
    {
      "cell_type": "markdown",
      "metadata": {
        "id": "epW7ytzaPnG0"
      },
      "source": [
        "3. **Matrizes:** Representam duas dimensões."
      ]
    },
    {
      "cell_type": "code",
      "execution_count": 68,
      "metadata": {
        "colab": {
          "base_uri": "https://localhost:8080/"
        },
        "id": "Ou9AbYAHPnG0",
        "outputId": "c5108c7b-bbeb-4209-d731-a8af28d86185"
      },
      "outputs": [
        {
          "output_type": "execute_result",
          "data": {
            "text/plain": [
              "array([[2, 4],\n",
              "       [1, 3]])"
            ]
          },
          "metadata": {},
          "execution_count": 68
        }
      ],
      "source": [
        "X = np.array([[2, 4],\n",
        "              [1, 3]])\n",
        "X"
      ]
    },
    {
      "cell_type": "markdown",
      "metadata": {
        "id": "FvTbKCnEPnG1"
      },
      "source": [
        "Podemos indexar as matrizes e os vetores."
      ]
    },
    {
      "cell_type": "code",
      "execution_count": 69,
      "metadata": {
        "colab": {
          "base_uri": "https://localhost:8080/"
        },
        "id": "iuzmhIWHPnG1",
        "outputId": "ebf52c75-f5b4-46cc-ec7c-5909a1521578"
      },
      "outputs": [
        {
          "output_type": "execute_result",
          "data": {
            "text/plain": [
              "3.5"
            ]
          },
          "metadata": {},
          "execution_count": 69
        }
      ],
      "source": [
        "data[0]"
      ]
    },
    {
      "cell_type": "code",
      "execution_count": 70,
      "metadata": {
        "colab": {
          "base_uri": "https://localhost:8080/"
        },
        "id": "2DM678OcPnG1",
        "outputId": "65229d46-74e1-4596-d9ba-592299da181a"
      },
      "outputs": [
        {
          "output_type": "execute_result",
          "data": {
            "text/plain": [
              "4"
            ]
          },
          "metadata": {},
          "execution_count": 70
        }
      ],
      "source": [
        "X[0, 1] # aqui é primeira linha, segunda coluna"
      ]
    },
    {
      "cell_type": "markdown",
      "metadata": {
        "id": "GRfn-3A-PnG2"
      },
      "source": [
        "Podemos também criar vetores/matrizes de números aleatórios"
      ]
    },
    {
      "cell_type": "code",
      "execution_count": 71,
      "metadata": {
        "colab": {
          "base_uri": "https://localhost:8080/"
        },
        "id": "QrFFbguCPnG2",
        "outputId": "77bd32ee-8b87-40a9-cf6b-87a442bfd292"
      },
      "outputs": [
        {
          "output_type": "stream",
          "name": "stdout",
          "text": [
            "[[ 1.33783828  1.16497432 -1.56662171]\n",
            " [ 0.71190041  0.75000124 -0.56885125]\n",
            " [-1.66016145 -0.63461301 -0.31829936]\n",
            " [-0.37229944  0.09972376 -1.10645534]]\n"
          ]
        }
      ],
      "source": [
        "X = np.random.randn(4, 3) # Gera números aleatórios de uma normal\n",
        "print(X)"
      ]
    },
    {
      "cell_type": "markdown",
      "metadata": {
        "id": "U91cP8uDPnG2"
      },
      "source": [
        "### Indexando\n",
        "\n",
        "Pegando a primeira linha"
      ]
    },
    {
      "cell_type": "code",
      "execution_count": 72,
      "metadata": {
        "colab": {
          "base_uri": "https://localhost:8080/"
        },
        "id": "9h9mDAYAPnG2",
        "outputId": "8c76fa21-1b4e-4d72-fa32-2252401bc39e"
      },
      "outputs": [
        {
          "output_type": "execute_result",
          "data": {
            "text/plain": [
              "array([ 1.33783828,  1.16497432, -1.56662171])"
            ]
          },
          "metadata": {},
          "execution_count": 72
        }
      ],
      "source": [
        "X[0] # observe que 0 é a linha 1, compare com o X[0, 1] de antes."
      ]
    },
    {
      "cell_type": "code",
      "execution_count": 73,
      "metadata": {
        "colab": {
          "base_uri": "https://localhost:8080/"
        },
        "id": "ENnEGK8xPnG3",
        "outputId": "6722112d-45ca-436a-b489-7de493677537"
      },
      "outputs": [
        {
          "output_type": "execute_result",
          "data": {
            "text/plain": [
              "array([ 0.71190041,  0.75000124, -0.56885125])"
            ]
          },
          "metadata": {},
          "execution_count": 73
        }
      ],
      "source": [
        "X[1] # segunda"
      ]
    },
    {
      "cell_type": "code",
      "execution_count": 74,
      "metadata": {
        "colab": {
          "base_uri": "https://localhost:8080/"
        },
        "id": "u5f-0WQsPnG3",
        "outputId": "2c36146d-c3f9-4f62-da16-c161a637c237"
      },
      "outputs": [
        {
          "output_type": "execute_result",
          "data": {
            "text/plain": [
              "array([-1.66016145, -0.63461301, -0.31829936])"
            ]
          },
          "metadata": {},
          "execution_count": 74
        }
      ],
      "source": [
        "X[2] # terceira"
      ]
    },
    {
      "cell_type": "markdown",
      "metadata": {
        "id": "M23NTBShPnG3"
      },
      "source": [
        "Observe como todos os tipos retornados são `array`. Array é o nome genérico de Numpy para vetores e matrizes."
      ]
    },
    {
      "cell_type": "markdown",
      "metadata": {
        "id": "sBe-ct-TPnG3"
      },
      "source": [
        "`X[:, c]` pega uma coluna"
      ]
    },
    {
      "cell_type": "code",
      "execution_count": 75,
      "metadata": {
        "colab": {
          "base_uri": "https://localhost:8080/"
        },
        "id": "Hsw-rzyyPnG4",
        "outputId": "b7ef71c4-18de-4706-8815-4816a3eb2d0b"
      },
      "outputs": [
        {
          "output_type": "execute_result",
          "data": {
            "text/plain": [
              "array([ 1.33783828,  0.71190041, -1.66016145, -0.37229944])"
            ]
          },
          "metadata": {},
          "execution_count": 75
        }
      ],
      "source": [
        "X[:, 0]"
      ]
    },
    {
      "cell_type": "code",
      "execution_count": 76,
      "metadata": {
        "colab": {
          "base_uri": "https://localhost:8080/"
        },
        "id": "oscqGP0RPnG4",
        "outputId": "74ebe3d7-1c6c-47ca-c194-3acbef6f03f9"
      },
      "outputs": [
        {
          "output_type": "execute_result",
          "data": {
            "text/plain": [
              "array([ 1.16497432,  0.75000124, -0.63461301,  0.09972376])"
            ]
          },
          "metadata": {},
          "execution_count": 76
        }
      ],
      "source": [
        "X[:, 1]"
      ]
    },
    {
      "cell_type": "markdown",
      "metadata": {
        "id": "0E7DS-7kPnG4"
      },
      "source": [
        "`X[um_vetor]` pega as linhas da matriz. `X[:, um_vetor]` pega as colunas"
      ]
    },
    {
      "cell_type": "code",
      "execution_count": 77,
      "metadata": {
        "colab": {
          "base_uri": "https://localhost:8080/"
        },
        "id": "dIlOJ8fTPnG4",
        "outputId": "b38c534c-5d74-447b-e0b3-8b5d6241fb6d"
      },
      "outputs": [
        {
          "output_type": "execute_result",
          "data": {
            "text/plain": [
              "array([[ 1.33783828,  1.16497432, -1.56662171],\n",
              "       [ 1.33783828,  1.16497432, -1.56662171],\n",
              "       [ 0.71190041,  0.75000124, -0.56885125]])"
            ]
          },
          "metadata": {},
          "execution_count": 77
        }
      ],
      "source": [
        "X[[0, 0, 1]] # observe que pego a primeira linha, indexada por 0, duas vezes"
      ]
    },
    {
      "cell_type": "markdown",
      "metadata": {
        "id": "mtt3qGS7PnG5"
      },
      "source": [
        "Abaixo pego a segunda a primeira coluna"
      ]
    },
    {
      "cell_type": "code",
      "execution_count": 78,
      "metadata": {
        "colab": {
          "base_uri": "https://localhost:8080/"
        },
        "id": "-_RxlppNPnG5",
        "outputId": "43f30ff6-e1e5-4cd4-f022-50b05a8633ba"
      },
      "outputs": [
        {
          "output_type": "execute_result",
          "data": {
            "text/plain": [
              "array([[ 1.16497432,  1.33783828],\n",
              "       [ 0.75000124,  0.71190041],\n",
              "       [-0.63461301, -1.66016145],\n",
              "       [ 0.09972376, -0.37229944]])"
            ]
          },
          "metadata": {},
          "execution_count": 78
        }
      ],
      "source": [
        "X[:, [1, 0]]"
      ]
    },
    {
      "cell_type": "markdown",
      "metadata": {
        "id": "6ALpi0j9PnG5"
      },
      "source": [
        "### Indexação Booleana\n",
        "\n",
        "`X[vetor_booleano]` retorna as linhas (ou colunas quando X[:, vetor_booleano]) onde o vetor é true"
      ]
    },
    {
      "cell_type": "code",
      "execution_count": 79,
      "metadata": {
        "colab": {
          "base_uri": "https://localhost:8080/"
        },
        "id": "ePE0AxeEPnG5",
        "outputId": "fa26e43d-396b-47dd-cc9b-37aef86a92f7"
      },
      "outputs": [
        {
          "output_type": "execute_result",
          "data": {
            "text/plain": [
              "array([[ 1.33783828,  1.16497432, -1.56662171],\n",
              "       [-1.66016145, -0.63461301, -0.31829936]])"
            ]
          },
          "metadata": {},
          "execution_count": 79
        }
      ],
      "source": [
        "X[[True, False, True, False]]"
      ]
    },
    {
      "cell_type": "code",
      "execution_count": 80,
      "metadata": {
        "colab": {
          "base_uri": "https://localhost:8080/"
        },
        "id": "X77sVg7-PnG5",
        "outputId": "d90b64d0-da8f-4e02-853b-8cd39c078d44"
      },
      "outputs": [
        {
          "output_type": "execute_result",
          "data": {
            "text/plain": [
              "array([[ 1.16497432, -1.56662171],\n",
              "       [ 0.75000124, -0.56885125],\n",
              "       [-0.63461301, -0.31829936],\n",
              "       [ 0.09972376, -1.10645534]])"
            ]
          },
          "metadata": {},
          "execution_count": 80
        }
      ],
      "source": [
        "X[:, [False, True, True]]"
      ]
    },
    {
      "cell_type": "markdown",
      "metadata": {
        "id": "JAgy8At2PnG6"
      },
      "source": [
        "### Reshape, Flatten e Ravel\n",
        "\n",
        "Todo vetor ou matriz pode ser redimensionado. Observe como uma matriz abaixo de 9x8=72 elementos. Podemos redimensionar os mesmos para outros arrays de tamanho 72."
      ]
    },
    {
      "cell_type": "code",
      "execution_count": 81,
      "metadata": {
        "id": "ghFzselqPnG6"
      },
      "outputs": [],
      "source": [
        "X = np.random.randn(9, 8)"
      ]
    },
    {
      "cell_type": "markdown",
      "metadata": {
        "id": "01Jjp9vxPnG6"
      },
      "source": [
        "Criando uma matriz de 18x4."
      ]
    },
    {
      "cell_type": "code",
      "execution_count": 82,
      "metadata": {
        "colab": {
          "base_uri": "https://localhost:8080/"
        },
        "id": "nQpEhL-bPnG_",
        "outputId": "aacbfda1-e17a-4f19-be96-83d607ef03af"
      },
      "outputs": [
        {
          "output_type": "execute_result",
          "data": {
            "text/plain": [
              "array([[ 0.70099767,  0.67539397, -0.68206568, -0.44115621],\n",
              "       [-0.04267647, -1.2014097 , -0.95119467,  0.12862689],\n",
              "       [ 0.50971228,  0.71093419,  0.19305629,  0.00563583],\n",
              "       [ 1.10462771, -2.45189911, -0.03147323,  0.13793472],\n",
              "       [-0.12586399, -1.49852518,  0.55907519, -0.49186105],\n",
              "       [-0.29357185, -0.63832149,  0.45731543, -0.26980147],\n",
              "       [ 0.08488667, -0.74217549,  0.62803505, -0.26359768],\n",
              "       [ 1.07887015,  1.97806576, -0.19472315, -0.10447677],\n",
              "       [-0.11917208, -0.74019655, -0.12830166,  0.83476362],\n",
              "       [ 0.54869875,  1.43314746,  0.96875327, -0.8579596 ],\n",
              "       [ 0.67508414, -0.65316325, -2.0645873 ,  0.73418364],\n",
              "       [-0.34304906, -1.32166311, -0.52430948,  1.20208412],\n",
              "       [ 0.85424663,  1.01565804,  0.12506359,  0.31045103],\n",
              "       [ 0.23071329, -1.80721699,  0.84133932, -0.04287157],\n",
              "       [ 0.2642029 , -0.75117456,  0.02316153,  1.83528369],\n",
              "       [ 0.63502338, -0.59399236, -0.76074375, -0.21598967],\n",
              "       [ 1.59692847,  0.32712648,  1.30085071, -0.91323562],\n",
              "       [ 1.13765177, -0.83029829, -0.17766937,  1.40825124]])"
            ]
          },
          "metadata": {},
          "execution_count": 82
        }
      ],
      "source": [
        "X.reshape((18, 4))"
      ]
    },
    {
      "cell_type": "markdown",
      "metadata": {
        "id": "xLVCqMJaPnHA"
      },
      "source": [
        "Ou um vetor de 72"
      ]
    },
    {
      "cell_type": "code",
      "execution_count": 83,
      "metadata": {
        "colab": {
          "base_uri": "https://localhost:8080/"
        },
        "id": "ITFnFLj5PnHA",
        "outputId": "bc165dda-6429-4519-8944-bb2ec63f29da"
      },
      "outputs": [
        {
          "output_type": "execute_result",
          "data": {
            "text/plain": [
              "array([ 0.70099767,  0.67539397, -0.68206568, -0.44115621, -0.04267647,\n",
              "       -1.2014097 , -0.95119467,  0.12862689,  0.50971228,  0.71093419,\n",
              "        0.19305629,  0.00563583,  1.10462771, -2.45189911, -0.03147323,\n",
              "        0.13793472, -0.12586399, -1.49852518,  0.55907519, -0.49186105,\n",
              "       -0.29357185, -0.63832149,  0.45731543, -0.26980147,  0.08488667,\n",
              "       -0.74217549,  0.62803505, -0.26359768,  1.07887015,  1.97806576,\n",
              "       -0.19472315, -0.10447677, -0.11917208, -0.74019655, -0.12830166,\n",
              "        0.83476362,  0.54869875,  1.43314746,  0.96875327, -0.8579596 ,\n",
              "        0.67508414, -0.65316325, -2.0645873 ,  0.73418364, -0.34304906,\n",
              "       -1.32166311, -0.52430948,  1.20208412,  0.85424663,  1.01565804,\n",
              "        0.12506359,  0.31045103,  0.23071329, -1.80721699,  0.84133932,\n",
              "       -0.04287157,  0.2642029 , -0.75117456,  0.02316153,  1.83528369,\n",
              "        0.63502338, -0.59399236, -0.76074375, -0.21598967,  1.59692847,\n",
              "        0.32712648,  1.30085071, -0.91323562,  1.13765177, -0.83029829,\n",
              "       -0.17766937,  1.40825124])"
            ]
          },
          "metadata": {},
          "execution_count": 83
        }
      ],
      "source": [
        "X.reshape(72)"
      ]
    },
    {
      "cell_type": "markdown",
      "metadata": {
        "id": "vSVE2ZZSPnHA"
      },
      "source": [
        "A chamada flatten e ravel faz a mesma coisa, criam uma visão de uma dimensão da matriz."
      ]
    },
    {
      "cell_type": "code",
      "execution_count": 84,
      "metadata": {
        "colab": {
          "base_uri": "https://localhost:8080/"
        },
        "id": "MuGE7p-mPnHA",
        "outputId": "b7755fc8-c447-480c-a295-522b80a3a3f9"
      },
      "outputs": [
        {
          "output_type": "execute_result",
          "data": {
            "text/plain": [
              "array([ 0.70099767,  0.67539397, -0.68206568, -0.44115621, -0.04267647,\n",
              "       -1.2014097 , -0.95119467,  0.12862689,  0.50971228,  0.71093419,\n",
              "        0.19305629,  0.00563583,  1.10462771, -2.45189911, -0.03147323,\n",
              "        0.13793472, -0.12586399, -1.49852518,  0.55907519, -0.49186105,\n",
              "       -0.29357185, -0.63832149,  0.45731543, -0.26980147,  0.08488667,\n",
              "       -0.74217549,  0.62803505, -0.26359768,  1.07887015,  1.97806576,\n",
              "       -0.19472315, -0.10447677, -0.11917208, -0.74019655, -0.12830166,\n",
              "        0.83476362,  0.54869875,  1.43314746,  0.96875327, -0.8579596 ,\n",
              "        0.67508414, -0.65316325, -2.0645873 ,  0.73418364, -0.34304906,\n",
              "       -1.32166311, -0.52430948,  1.20208412,  0.85424663,  1.01565804,\n",
              "        0.12506359,  0.31045103,  0.23071329, -1.80721699,  0.84133932,\n",
              "       -0.04287157,  0.2642029 , -0.75117456,  0.02316153,  1.83528369,\n",
              "        0.63502338, -0.59399236, -0.76074375, -0.21598967,  1.59692847,\n",
              "        0.32712648,  1.30085071, -0.91323562,  1.13765177, -0.83029829,\n",
              "       -0.17766937,  1.40825124])"
            ]
          },
          "metadata": {},
          "execution_count": 84
        }
      ],
      "source": [
        "X.flatten()"
      ]
    },
    {
      "cell_type": "code",
      "execution_count": 85,
      "metadata": {
        "colab": {
          "base_uri": "https://localhost:8080/"
        },
        "id": "5v8XDHrgPnHB",
        "outputId": "5dcfcca8-18d0-45a9-a555-f40f5eb977cf"
      },
      "outputs": [
        {
          "output_type": "execute_result",
          "data": {
            "text/plain": [
              "array([ 0.70099767,  0.67539397, -0.68206568, -0.44115621, -0.04267647,\n",
              "       -1.2014097 , -0.95119467,  0.12862689,  0.50971228,  0.71093419,\n",
              "        0.19305629,  0.00563583,  1.10462771, -2.45189911, -0.03147323,\n",
              "        0.13793472, -0.12586399, -1.49852518,  0.55907519, -0.49186105,\n",
              "       -0.29357185, -0.63832149,  0.45731543, -0.26980147,  0.08488667,\n",
              "       -0.74217549,  0.62803505, -0.26359768,  1.07887015,  1.97806576,\n",
              "       -0.19472315, -0.10447677, -0.11917208, -0.74019655, -0.12830166,\n",
              "        0.83476362,  0.54869875,  1.43314746,  0.96875327, -0.8579596 ,\n",
              "        0.67508414, -0.65316325, -2.0645873 ,  0.73418364, -0.34304906,\n",
              "       -1.32166311, -0.52430948,  1.20208412,  0.85424663,  1.01565804,\n",
              "        0.12506359,  0.31045103,  0.23071329, -1.80721699,  0.84133932,\n",
              "       -0.04287157,  0.2642029 , -0.75117456,  0.02316153,  1.83528369,\n",
              "        0.63502338, -0.59399236, -0.76074375, -0.21598967,  1.59692847,\n",
              "        0.32712648,  1.30085071, -0.91323562,  1.13765177, -0.83029829,\n",
              "       -0.17766937,  1.40825124])"
            ]
          },
          "metadata": {},
          "execution_count": 85
        }
      ],
      "source": [
        "X.ravel()"
      ]
    },
    {
      "cell_type": "markdown",
      "metadata": {
        "id": "PHD1woIgPnHB"
      },
      "source": [
        "As funções incorporadas ao NumPy podem ser facilmente chamadas em matrizes. A maioria das funções são aplicadas a um elemento de array (como a multiplicação escalar). Por exemplo, se chamarmos `log()` em um array, o logaritmo será obtido de cada elemento."
      ]
    },
    {
      "cell_type": "code",
      "execution_count": 86,
      "metadata": {
        "colab": {
          "base_uri": "https://localhost:8080/"
        },
        "id": "HIX_nwF7PnHB",
        "outputId": "7ae37b2f-063e-4a82-ba6b-8fe8d81fd240"
      },
      "outputs": [
        {
          "output_type": "execute_result",
          "data": {
            "text/plain": [
              "array([1.25276297, 1.60943791, 0.69314718, 2.07944154, 1.43508453])"
            ]
          },
          "metadata": {},
          "execution_count": 86
        }
      ],
      "source": [
        "np.log(data)"
      ]
    },
    {
      "cell_type": "markdown",
      "metadata": {
        "id": "2K2FDGsYPnHC"
      },
      "source": [
        "Mean tira a média"
      ]
    },
    {
      "cell_type": "code",
      "execution_count": 87,
      "metadata": {
        "colab": {
          "base_uri": "https://localhost:8080/"
        },
        "id": "bIHIkC-OPnHC",
        "outputId": "55e17e6f-1080-4cc0-b261-15d8bbd40541"
      },
      "outputs": [
        {
          "output_type": "execute_result",
          "data": {
            "text/plain": [
              "4.54"
            ]
          },
          "metadata": {},
          "execution_count": 87
        }
      ],
      "source": [
        "np.mean(data)"
      ]
    },
    {
      "cell_type": "markdown",
      "metadata": {
        "id": "gv3DHOfXPnHC"
      },
      "source": [
        "Algumas funções podem ser chamadas direto no vetor, nem todas serão assim. O importante é ler a [documentação](http://numpy.org) e aprender. Com um pouco de prática você vai se acostumando."
      ]
    },
    {
      "cell_type": "code",
      "execution_count": 88,
      "metadata": {
        "colab": {
          "base_uri": "https://localhost:8080/"
        },
        "id": "8lpdTzwCPnHC",
        "outputId": "efec2505-e31e-4a8c-dc06-386923877d69"
      },
      "outputs": [
        {
          "output_type": "execute_result",
          "data": {
            "text/plain": [
              "4.54"
            ]
          },
          "metadata": {},
          "execution_count": 88
        }
      ],
      "source": [
        "data.mean()"
      ]
    },
    {
      "cell_type": "markdown",
      "metadata": {
        "id": "nRJyd_bSPnHD"
      },
      "source": [
        "Abaixo temos a mediana,"
      ]
    },
    {
      "cell_type": "code",
      "execution_count": 89,
      "metadata": {
        "colab": {
          "base_uri": "https://localhost:8080/"
        },
        "id": "Jyi4itcZPnHD",
        "outputId": "a43a1ed0-be45-4239-eb78-b68d91f68235"
      },
      "outputs": [
        {
          "output_type": "execute_result",
          "data": {
            "text/plain": [
              "4.2"
            ]
          },
          "metadata": {},
          "execution_count": 89
        }
      ],
      "source": [
        "np.median(data) # por exemplo, não existe data.median(). Faz sentido? Não. Mas é assim."
      ]
    },
    {
      "cell_type": "markdown",
      "metadata": {
        "id": "Kdu1njrdPnHD"
      },
      "source": [
        "Em matrizes as funções operam em todos os elemntos."
      ]
    },
    {
      "cell_type": "code",
      "execution_count": 90,
      "metadata": {
        "colab": {
          "base_uri": "https://localhost:8080/"
        },
        "id": "hP4NONbmPnHD",
        "outputId": "d984a5b7-e077-4559-bdb0-442d1829bb17"
      },
      "outputs": [
        {
          "output_type": "execute_result",
          "data": {
            "text/plain": [
              "0.014398682002880851"
            ]
          },
          "metadata": {},
          "execution_count": 90
        }
      ],
      "source": [
        "np.median(X)"
      ]
    },
    {
      "cell_type": "code",
      "execution_count": 91,
      "metadata": {
        "colab": {
          "base_uri": "https://localhost:8080/"
        },
        "id": "e31kKCnXPnHF",
        "outputId": "73b38473-3af9-42ae-a739-fd91621c8ef0"
      },
      "outputs": [
        {
          "output_type": "execute_result",
          "data": {
            "text/plain": [
              "0.055353436195164925"
            ]
          },
          "metadata": {},
          "execution_count": 91
        }
      ],
      "source": [
        "X.mean()"
      ]
    },
    {
      "cell_type": "code",
      "execution_count": 92,
      "metadata": {
        "colab": {
          "base_uri": "https://localhost:8080/"
        },
        "id": "h4gr4c65PnHG",
        "outputId": "d775d01d-c92f-40ff-a0ed-705c93e6b1a2"
      },
      "outputs": [
        {
          "output_type": "execute_result",
          "data": {
            "text/plain": [
              "array([[2.37033698, 2.36794146, 2.23194096, 2.25746678, 2.29830831,\n",
              "        2.17459152, 2.20263274, 2.31536576],\n",
              "       [2.35229981, 2.37126511, 2.32170673, 2.30314852, 2.40736193,\n",
              "        2.02129599, 2.29943281, 2.3162843 ],\n",
              "       [2.28991881, 2.14023966, 2.3569857 , 2.25214816, 2.27278836,\n",
              "        2.2366246 , 2.34730177, 2.2752343 ],\n",
              "       [2.31103793, 2.22546909, 2.36349533, 2.27587168, 2.4050397 ,\n",
              "        2.48307712, 2.28292069, 2.29208246],\n",
              "       [2.29059631, 2.22568282, 2.28967191, 2.38275982, 2.35600251,\n",
              "        2.43651681, 2.39505062, 2.2128836 ],\n",
              "       [2.36791244, 2.23503797, 2.07133536, 2.37343338, 2.26767796,\n",
              "        2.16082991, 2.24872963, 2.41609984],\n",
              "       [2.3845564 , 2.39931772, 2.31501389, 2.33315804, 2.3253943 ,\n",
              "        2.10325365, 2.38336654, 2.29828872],\n",
              "       [2.32866239, 2.22449656, 2.30489857, 2.47108521, 2.36415265,\n",
              "        2.2413486 , 2.22346139, 2.28074945],\n",
              "       [2.45074028, 2.33477407, 2.42487801, 2.20681889, 2.41033142,\n",
              "        2.21590476, 2.28465843, 2.43433689]])"
            ]
          },
          "metadata": {},
          "execution_count": 92
        }
      ],
      "source": [
        "np.log(X + 10)"
      ]
    },
    {
      "cell_type": "markdown",
      "metadata": {
        "id": "WQ8EmsrzPnHG"
      },
      "source": [
        "Porém, caso você queira a media de linhas ou colunas use `axis`. Antes, vamos ver o tamanho do vetor."
      ]
    },
    {
      "cell_type": "code",
      "execution_count": 93,
      "metadata": {
        "colab": {
          "base_uri": "https://localhost:8080/"
        },
        "id": "AxphPfCsPnHG",
        "outputId": "4e25abe9-233b-4b2d-8bd3-7a8559ac11c4"
      },
      "outputs": [
        {
          "output_type": "execute_result",
          "data": {
            "text/plain": [
              "(9, 8)"
            ]
          },
          "metadata": {},
          "execution_count": 93
        }
      ],
      "source": [
        "X.shape"
      ]
    },
    {
      "cell_type": "code",
      "execution_count": 94,
      "metadata": {
        "colab": {
          "base_uri": "https://localhost:8080/"
        },
        "id": "VcY5LFg3PnHG",
        "outputId": "9321318a-b619-4055-c918-62bbff49ebaa"
      },
      "outputs": [
        {
          "output_type": "execute_result",
          "data": {
            "text/plain": [
              "array([ 0.49344697, -0.1840136 , -0.00507914,  0.17894081,  0.45069863,\n",
              "       -0.60373198, -0.04141174,  0.15397754])"
            ]
          },
          "metadata": {},
          "execution_count": 94
        }
      ],
      "source": [
        "np.mean(X, axis=0) # média das colunas. como temos 8 colunas, temos 8 elementos."
      ]
    },
    {
      "cell_type": "code",
      "execution_count": 95,
      "metadata": {
        "colab": {
          "base_uri": "https://localhost:8080/"
        },
        "id": "_UpRJuVrPnHH",
        "outputId": "202df396-fa53-4a1a-cb20-d7410aeb4691"
      },
      "outputs": [
        {
          "output_type": "execute_result",
          "data": {
            "text/plain": [
              "(8,)"
            ]
          },
          "metadata": {},
          "execution_count": 95
        }
      ],
      "source": [
        "np.mean(X, axis=0).shape"
      ]
    },
    {
      "cell_type": "code",
      "execution_count": 96,
      "metadata": {
        "colab": {
          "base_uri": "https://localhost:8080/"
        },
        "id": "UzNM6IrnPnHH",
        "outputId": "2d352b7d-a46d-4952-c1f9-8815558f2d7c"
      },
      "outputs": [
        {
          "output_type": "execute_result",
          "data": {
            "text/plain": [
              "array([-0.22668552,  0.02231609, -0.2876943 ,  0.30811057,  0.24246665,\n",
              "       -0.28692754,  0.19092292,  0.05447139,  0.48120067])"
            ]
          },
          "metadata": {},
          "execution_count": 96
        }
      ],
      "source": [
        "np.mean(X, axis=1) # média das linhas"
      ]
    },
    {
      "cell_type": "code",
      "execution_count": 97,
      "metadata": {
        "colab": {
          "base_uri": "https://localhost:8080/"
        },
        "id": "xmYqlNhRPnHH",
        "outputId": "45fa7f64-acfa-409e-f098-dc382282b374"
      },
      "outputs": [
        {
          "output_type": "execute_result",
          "data": {
            "text/plain": [
              "(9,)"
            ]
          },
          "metadata": {},
          "execution_count": 97
        }
      ],
      "source": [
        "np.mean(X, axis=1).shape"
      ]
    },
    {
      "cell_type": "markdown",
      "metadata": {
        "id": "-2fpGyLZPnHI"
      },
      "source": [
        "Lembre-se que eixo 0 é coluna. Eixo 1 é linas."
      ]
    },
    {
      "cell_type": "markdown",
      "metadata": {
        "id": "Z3DzEkb6PnHI"
      },
      "source": [
        "### Multiplicação de Matrizes"
      ]
    },
    {
      "cell_type": "markdown",
      "metadata": {
        "id": "9wQOMa30PnHI"
      },
      "source": [
        "Para transpor uma matriz fazemos uso de .T"
      ]
    },
    {
      "cell_type": "code",
      "execution_count": 98,
      "metadata": {
        "colab": {
          "base_uri": "https://localhost:8080/"
        },
        "id": "gTnFnI87PnHI",
        "outputId": "642ec4b8-a0f2-4cae-8e9c-473951a0a808"
      },
      "outputs": [
        {
          "output_type": "execute_result",
          "data": {
            "text/plain": [
              "(9, 8)"
            ]
          },
          "metadata": {},
          "execution_count": 98
        }
      ],
      "source": [
        "X.shape"
      ]
    },
    {
      "cell_type": "code",
      "execution_count": 99,
      "metadata": {
        "colab": {
          "base_uri": "https://localhost:8080/"
        },
        "id": "Z-u9pcvAPnHI",
        "outputId": "7be50e38-5cec-4873-f7a8-c4184069240b"
      },
      "outputs": [
        {
          "output_type": "execute_result",
          "data": {
            "text/plain": [
              "(8, 9)"
            ]
          },
          "metadata": {},
          "execution_count": 99
        }
      ],
      "source": [
        "X.T.shape"
      ]
    },
    {
      "cell_type": "code",
      "execution_count": 100,
      "metadata": {
        "colab": {
          "base_uri": "https://localhost:8080/"
        },
        "id": "8DQ4ENsKPnHJ",
        "outputId": "c7e43349-01a0-4b20-8c73-20317fffac5a"
      },
      "outputs": [
        {
          "output_type": "execute_result",
          "data": {
            "text/plain": [
              "array([[ 0.70099767,  0.50971228, -0.12586399,  0.08488667, -0.11917208,\n",
              "         0.67508414,  0.85424663,  0.2642029 ,  1.59692847],\n",
              "       [ 0.67539397,  0.71093419, -1.49852518, -0.74217549, -0.74019655,\n",
              "        -0.65316325,  1.01565804, -0.75117456,  0.32712648],\n",
              "       [-0.68206568,  0.19305629,  0.55907519,  0.62803505, -0.12830166,\n",
              "        -2.0645873 ,  0.12506359,  0.02316153,  1.30085071],\n",
              "       [-0.44115621,  0.00563583, -0.49186105, -0.26359768,  0.83476362,\n",
              "         0.73418364,  0.31045103,  1.83528369, -0.91323562],\n",
              "       [-0.04267647,  1.10462771, -0.29357185,  1.07887015,  0.54869875,\n",
              "        -0.34304906,  0.23071329,  0.63502338,  1.13765177],\n",
              "       [-1.2014097 , -2.45189911, -0.63832149,  1.97806576,  1.43314746,\n",
              "        -1.32166311, -1.80721699, -0.59399236, -0.83029829],\n",
              "       [-0.95119467, -0.03147323,  0.45731543, -0.19472315,  0.96875327,\n",
              "        -0.52430948,  0.84133932, -0.76074375, -0.17766937],\n",
              "       [ 0.12862689,  0.13793472, -0.26980147, -0.10447677, -0.8579596 ,\n",
              "         1.20208412, -0.04287157, -0.21598967,  1.40825124]])"
            ]
          },
          "metadata": {},
          "execution_count": 100
        }
      ],
      "source": [
        "X.T"
      ]
    },
    {
      "cell_type": "markdown",
      "metadata": {
        "id": "eks6DIbwPnHJ"
      },
      "source": [
        "Para multiplicar matrizes, do ponto de visto de multiplicação matricial como definido na álgebra linear, fazemos uso de `@`."
      ]
    },
    {
      "cell_type": "code",
      "execution_count": 101,
      "metadata": {
        "colab": {
          "base_uri": "https://localhost:8080/"
        },
        "id": "LvLEcnChPnHJ",
        "outputId": "c347451e-4543-4b83-a322-0aedcf5a3897"
      },
      "outputs": [
        {
          "output_type": "execute_result",
          "data": {
            "text/plain": [
              "array([[ 3.97390986e+00,  3.64957748e+00, -9.54949165e-01,\n",
              "        -3.00455755e+00, -3.64125804e+00,  3.37222411e+00,\n",
              "         2.41810531e+00,  2.34783326e-01,  2.15511091e+00],\n",
              "       [ 3.64957748e+00,  8.05456471e+00,  1.64857834e-01,\n",
              "        -4.03115986e+00, -3.66369673e+00,  2.52925274e+00,\n",
              "         5.83695286e+00,  1.76747097e+00,  4.78485790e+00],\n",
              "       [-9.54949165e-01,  1.64857834e-01,  3.59148081e+00,\n",
              "        -5.79729830e-02,  2.40497909e-01, -2.41306446e-01,\n",
              "        -2.30108082e-01,  1.05752417e-01,  2.20070828e-01],\n",
              "       [-3.00455755e+00, -4.03115986e+00, -5.79729830e-02,\n",
              "         6.14747942e+00,  3.56645270e+00, -3.95603149e+00,\n",
              "        -4.16980573e+00, -2.08447476e-01,  4.22940042e-01],\n",
              "       [-3.64125804e+00, -3.66369673e+00,  2.40497909e-01,\n",
              "         3.56645270e+00,  5.30494409e+00, -2.34085708e+00,\n",
              "        -2.22206562e+00,  9.99082904e-01, -3.30773660e+00],\n",
              "       [ 3.37222411e+00,  2.52925274e+00, -2.41306446e-01,\n",
              "        -3.95603149e+00, -2.34085708e+00,  9.26828986e+00,\n",
              "         1.69974985e+00,  2.67505609e+00,  1.28602467e-03],\n",
              "       [ 2.41810531e+00,  5.83695286e+00, -2.30108082e-01,\n",
              "        -4.16980573e+00, -2.22206562e+00,  1.69974985e+00,\n",
              "         5.90227098e+00,  6.24617933e-01,  3.12873991e+00],\n",
              "       [ 2.34783326e-01,  1.76747097e+00,  1.05752417e-01,\n",
              "        -2.08447476e-01,  9.99082904e-01,  2.67505609e+00,\n",
              "         6.24617933e-01,  5.38433327e+00, -4.23113243e-01],\n",
              "       [ 2.15511091e+00,  4.78485790e+00,  2.20070828e-01,\n",
              "         4.22940042e-01, -3.30773660e+00,  1.28602467e-03,\n",
              "         3.12873991e+00, -4.23113243e-01,  9.18178888e+00]])"
            ]
          },
          "metadata": {},
          "execution_count": 101
        }
      ],
      "source": [
        "X @ X.T"
      ]
    },
    {
      "cell_type": "markdown",
      "metadata": {
        "id": "3gMHy6hvPnHJ"
      },
      "source": [
        "O uso de `*` realiza uma operação ponto a ponto"
      ]
    },
    {
      "cell_type": "code",
      "execution_count": 102,
      "metadata": {
        "colab": {
          "base_uri": "https://localhost:8080/"
        },
        "id": "i1DxHmEXPnHK",
        "outputId": "30994660-f435-491f-bcf5-75c18041bd20"
      },
      "outputs": [
        {
          "output_type": "execute_result",
          "data": {
            "text/plain": [
              "array([[4.91397739e-01, 4.56157009e-01, 4.65213597e-01, 1.94618798e-01,\n",
              "        1.82128127e-03, 1.44338527e+00, 9.04771294e-01, 1.65448776e-02],\n",
              "       [2.59806613e-01, 5.05427416e-01, 3.72707312e-02, 3.17626266e-05,\n",
              "        1.22020237e+00, 6.01180926e+00, 9.90563978e-04, 1.90259870e-02],\n",
              "       [1.58417449e-02, 2.24557772e+00, 3.12565070e-01, 2.41927288e-01,\n",
              "        8.61844336e-02, 4.07454321e-01, 2.09137400e-01, 7.27928357e-02],\n",
              "       [7.20574754e-03, 5.50824452e-01, 3.94428020e-01, 6.94837375e-02,\n",
              "        1.16396080e+00, 3.91274416e+00, 3.79171067e-02, 1.09153949e-02],\n",
              "       [1.42019854e-02, 5.47890933e-01, 1.64613168e-02, 6.96830309e-01,\n",
              "        3.01070313e-01, 2.05391166e+00, 9.38482903e-01, 7.36094671e-01],\n",
              "       [4.55738592e-01, 4.26622235e-01, 4.26252070e+00, 5.39025612e-01,\n",
              "        1.17682655e-01, 1.74679339e+00, 2.74900433e-01, 1.44500624e+00],\n",
              "       [7.29737302e-01, 1.03156125e+00, 1.56409017e-02, 9.63798427e-02,\n",
              "        5.32286212e-02, 3.26603324e+00, 7.07851848e-01, 1.83797156e-03],\n",
              "       [6.98031704e-02, 5.64263219e-01, 5.36456465e-04, 3.36826621e+00,\n",
              "        4.03254694e-01, 3.52826924e-01, 5.78731059e-01, 4.66515369e-02],\n",
              "       [2.55018053e+00, 1.07011732e-01, 1.69221258e+00, 8.33999291e-01,\n",
              "        1.29425154e+00, 6.89395250e-01, 3.15664036e-02, 1.98317155e+00]])"
            ]
          },
          "metadata": {},
          "execution_count": 102
        }
      ],
      "source": [
        "X * X"
      ]
    },
    {
      "cell_type": "markdown",
      "metadata": {
        "id": "VET-GrNePnHK"
      },
      "source": [
        "Observe a diferença de tamanhos"
      ]
    },
    {
      "cell_type": "code",
      "execution_count": 103,
      "metadata": {
        "colab": {
          "base_uri": "https://localhost:8080/"
        },
        "id": "lO7Ys1DzPnHK",
        "outputId": "972dd0ba-9a59-46be-b82e-53d853ccac2d"
      },
      "outputs": [
        {
          "output_type": "execute_result",
          "data": {
            "text/plain": [
              "(9, 8)"
            ]
          },
          "metadata": {},
          "execution_count": 103
        }
      ],
      "source": [
        "(X * X).shape"
      ]
    },
    {
      "cell_type": "code",
      "execution_count": 104,
      "metadata": {
        "colab": {
          "base_uri": "https://localhost:8080/"
        },
        "id": "Cotwwu0dPnHL",
        "outputId": "1c18fdcb-f443-44ba-e234-8f42563a588f"
      },
      "outputs": [
        {
          "output_type": "execute_result",
          "data": {
            "text/plain": [
              "(9, 9)"
            ]
          },
          "metadata": {},
          "execution_count": 104
        }
      ],
      "source": [
        "(X @ X.T).shape"
      ]
    },
    {
      "cell_type": "markdown",
      "metadata": {
        "id": "aadv4oaoPnHL"
      },
      "source": [
        "**Pense:** Para o nosso `X` de tamanho `(9, 8)`, qual o motivo de `X * X.T` não funcionar? Qual o motivo de `X @ X` não funcionar?"
      ]
    },
    {
      "cell_type": "markdown",
      "metadata": {
        "id": "ZZTlIdDGPnHL"
      },
      "source": [
        "## Correção Automática\n",
        "\n",
        "Nossa correção automática depende das funções abaixo. Tais funções comparam valores que serão computados pelo seu código com uma saída esperada. Normalmente, vocês não fazer uso de tais funções em notebooks como este. Porém, elas são chave em ambientes de testes automáticos (fora do nosso escopo).\n",
        "\n",
        "Observe como algumas funções comparam valores e outras comparam vetores. Além do mais, temos funções para comparar dentro de algumas casas decimais."
      ]
    },
    {
      "cell_type": "code",
      "execution_count": 105,
      "metadata": {
        "id": "UjNJZ13ePnHM"
      },
      "outputs": [],
      "source": [
        "from numpy.testing import assert_almost_equal\n",
        "from numpy.testing import assert_equal\n",
        "\n",
        "from numpy.testing import assert_array_almost_equal\n",
        "from numpy.testing import assert_array_equal"
      ]
    },
    {
      "cell_type": "code",
      "execution_count": 106,
      "metadata": {
        "id": "itVC6bDTPnHM"
      },
      "outputs": [],
      "source": [
        "# caso você mude um dos valores vamos receber um erro!\n",
        "assert_array_equal(2, 2)\n",
        "\n",
        "# caso você mude um dos valores vamos receber um erro!\n",
        "assert_array_equal([1, 2], [1, 2])\n",
        "\n",
        "# caso você mude um dos valores vamos receber um erro!\n",
        "assert_almost_equal(3.1415, 3.14, 1)"
      ]
    },
    {
      "cell_type": "markdown",
      "metadata": {
        "id": "Xis082jNPnHM"
      },
      "source": [
        "Caso você mude um dos valores abaixo vamos receber um erro! Como o abaixo.\n",
        "\n",
        "```\n",
        "-----------------------------------------------------------------------\n",
        "AssertionError                        Traceback (most recent call last)\n",
        "<ipython-input-10-396672d880f2> in <module>\n",
        "----> 1 assert_equal(2, 3) # caso você mude um dos valores vamos receber um erro!\n",
        "\n",
        "~/miniconda3/lib/python3.7/site-packages/numpy/testing/_private/utils.py in assert_equal(actual, desired, err_msg, verbose)\n",
        "    413         # Explicitly use __eq__ for comparison, gh-2552\n",
        "    414         if not (desired == actual):\n",
        "--> 415             raise AssertionError(msg)\n",
        "    416\n",
        "    417     except (DeprecationWarning, FutureWarning) as e:\n",
        "\n",
        "AssertionError:\n",
        "Items are not equal:\n",
        " ACTUAL: 2\n",
        " DESIRED: 3\n",
        " ```"
      ]
    },
    {
      "cell_type": "markdown",
      "metadata": {
        "id": "pjfCG7aaPnHN"
      },
      "source": [
        "É essencial que todo seu código execute sem erros! Portanto, antes de submeter clique em `Kernel` no menu acima. Depois clique em `Restart & Execute All.`\n",
        "\n",
        "**Garanta que o notebook executa até o fim!** Isto é, sem erros como o acima."
      ]
    },
    {
      "cell_type": "markdown",
      "metadata": {
        "id": "P5pVhE4ePnHN"
      },
      "source": [
        "## Funções em Python"
      ]
    },
    {
      "cell_type": "markdown",
      "metadata": {
        "id": "MTn-WSekPnHN"
      },
      "source": [
        "Para criar uma função em Python fazemos uso da palavra-chave:\n",
        "```python\n",
        "def\n",
        "```\n",
        "\n",
        "Todos nossos exercícios farão uso de funções. **Mantenha a assinatura das funções exatamente como requisitado, a correção automática depende disso.** Abaixo, temos um exempo de uma função que imprime algo na tela!"
      ]
    },
    {
      "cell_type": "code",
      "execution_count": 107,
      "metadata": {
        "id": "FVbea61TPnHN"
      },
      "outputs": [],
      "source": [
        "def print_something(txt):\n",
        "    print(f'Voce passou o argumento: {txt}')"
      ]
    },
    {
      "cell_type": "code",
      "execution_count": 108,
      "metadata": {
        "colab": {
          "base_uri": "https://localhost:8080/"
        },
        "id": "E45wGFO9PnHN",
        "outputId": "d6da252e-a552-4d6b-8bdb-6e4361b861e7"
      },
      "outputs": [
        {
          "output_type": "stream",
          "name": "stdout",
          "text": [
            "Voce passou o argumento: DCC 212\n"
          ]
        }
      ],
      "source": [
        "print_something('DCC 212')"
      ]
    },
    {
      "cell_type": "markdown",
      "metadata": {
        "id": "ZuMxA3dRPnHO"
      },
      "source": [
        "Podemos também dizer o tipo do argumento, porém faremos pouco uso disto em ICD."
      ]
    },
    {
      "cell_type": "code",
      "execution_count": 109,
      "metadata": {
        "id": "dK3AJ3fJPnHO"
      },
      "outputs": [],
      "source": [
        "def print_something(txt: str):\n",
        "    print(f'Voce passou o argumento: {txt}')"
      ]
    },
    {
      "cell_type": "code",
      "execution_count": 110,
      "metadata": {
        "colab": {
          "base_uri": "https://localhost:8080/"
        },
        "id": "nB_t3YrvPnHO",
        "outputId": "f97f541d-2b17-43ee-cae2-d9fd012aa422"
      },
      "outputs": [
        {
          "output_type": "stream",
          "name": "stdout",
          "text": [
            "Voce passou o argumento: DCC 212\n"
          ]
        }
      ],
      "source": [
        "print_something('DCC 212')"
      ]
    },
    {
      "cell_type": "markdown",
      "metadata": {
        "id": "RFng2YlFPnHO"
      },
      "source": [
        "Abaixo temos uma função que soma, a soma, dois vetores"
      ]
    },
    {
      "cell_type": "code",
      "execution_count": 111,
      "metadata": {
        "id": "1iXqqmVvPnHP"
      },
      "outputs": [],
      "source": [
        "def sum_of_sum_vectors(array_1, array_2):\n",
        "    return (array_1 + array_2).sum()"
      ]
    },
    {
      "cell_type": "code",
      "execution_count": 112,
      "metadata": {
        "id": "TLCyAeBwPnHP"
      },
      "outputs": [],
      "source": [
        "x = np.array([1, 2])\n",
        "y = np.array([1, 2])"
      ]
    },
    {
      "cell_type": "code",
      "execution_count": 113,
      "metadata": {
        "colab": {
          "base_uri": "https://localhost:8080/"
        },
        "id": "CnccHotaPnHP",
        "outputId": "5cdb4a23-3d34-49f5-d186-5ca4beeb1215"
      },
      "outputs": [
        {
          "output_type": "execute_result",
          "data": {
            "text/plain": [
              "6"
            ]
          },
          "metadata": {},
          "execution_count": 113
        }
      ],
      "source": [
        "sum_of_sum_vectors(x, y)"
      ]
    },
    {
      "cell_type": "markdown",
      "metadata": {
        "id": "er10xgq9PnHP"
      },
      "source": [
        "Abaixo temos um teste, tais testes vão avaliar o seu código. Nem todos estão aqui no notebook!"
      ]
    },
    {
      "cell_type": "code",
      "execution_count": 114,
      "metadata": {
        "id": "mUlyG7XZPnHQ"
      },
      "outputs": [],
      "source": [
        "assert_equal(6, sum_of_sum_vectors(x, y))"
      ]
    },
    {
      "cell_type": "markdown",
      "metadata": {
        "id": "fxGwy7NPPnHQ"
      },
      "source": [
        "## Exercício 01\n",
        "\n",
        "Inicialmente, crie uma função que recebe duas listas de números, converte as duas para um vetor numpy usando `np.array` e retorna o produto interno das duas listas.\n",
        "\n",
        "__Dicas:__  \n",
        "1. Tente fazer um código sem nenhum **for**! Ou seja, numpy permite operações em vetores e matrizes, onde: `np.array([1, 2]) + np.array([2, 2]) = np.array([3, 4])`.\n",
        "\n",
        "__Funções:__\n",
        "1. `np.sum(array)` soma os elementos do array. `array.sum()` tem o mesmo efeito!"
      ]
    },
    {
      "cell_type": "code",
      "execution_count": 138,
      "metadata": {
        "id": "eNIm69raPnHQ"
      },
      "outputs": [],
      "source": [
        "from re import A\n",
        "def inner(array_1, array_2):\n",
        "    # Seu código aqui!\n",
        "    a1 = np.array(array_1)\n",
        "    a2 = np.array(array_2)\n",
        "    produto = array_1 * array_2\n",
        "    produto = np.sum(produto)\n",
        "    # Apague o return None abaixo e mude para seu retorno\n",
        "    return produto"
      ]
    },
    {
      "cell_type": "code",
      "execution_count": 139,
      "metadata": {
        "id": "6_l0z2iMPnHQ"
      },
      "outputs": [],
      "source": [
        "x1 = np.array([2, 4, 8])\n",
        "x2 = np.array([10, 100, 1000])\n",
        "assert_equal(20 + 400 + 8000, inner(x1, x2))"
      ]
    },
    {
      "cell_type": "markdown",
      "metadata": {
        "id": "XeVDn_WDPnHR"
      },
      "source": [
        "## Exercício 02\n",
        "\n",
        "Implemente uma função utilizando numpy que recebe duas matrizes, multiplica as duas e retorne o valor médio das células da multiplicação. Por exemplo, ao multiplicar:\n",
        "\n",
        "```\n",
        "[1 2]\n",
        "[3 4]\n",
        "\n",
        "com\n",
        "\n",
        "[2 1]\n",
        "[1 2]\n",
        "\n",
        "temos\n",
        "\n",
        "[4  5 ]\n",
        "[10 11]\n",
        "\n",
        "onde a média de [4, 5, 10, 11] é\n",
        "\n",
        "7.5, sua resposta final!\n",
        "```\n",
        "\n",
        "\n",
        "__Dicas:__  \n",
        "1. Use o operador @ para multiplicar matrizes!"
      ]
    },
    {
      "cell_type": "code",
      "execution_count": null,
      "metadata": {
        "id": "wZSZ3i-iPnHR"
      },
      "outputs": [],
      "source": [
        "def medmult(X_1, X_2):\n",
        "    # Seu código aqui!\n",
        "    # Apague o return None abaixo e mude para seu retorno\n",
        "    return None"
      ]
    },
    {
      "cell_type": "code",
      "execution_count": null,
      "metadata": {
        "id": "5Qahc9ehPnHR"
      },
      "outputs": [],
      "source": [
        "X = np.array([1, 2, 3, 4]).reshape(2, 2)\n",
        "Y = np.array([2, 1, 1, 2]).reshape(2, 2)\n",
        "assert_equal(7.5, medmult(X, Y))"
      ]
    },
    {
      "cell_type": "code",
      "execution_count": null,
      "metadata": {
        "id": "HrHBqHx3PnHR"
      },
      "outputs": [],
      "source": []
    }
  ],
  "metadata": {
    "kernelspec": {
      "display_name": "Python 3 (ipykernel)",
      "language": "python",
      "name": "python3"
    },
    "language_info": {
      "codemirror_mode": {
        "name": "ipython",
        "version": 3
      },
      "file_extension": ".py",
      "mimetype": "text/x-python",
      "name": "python",
      "nbconvert_exporter": "python",
      "pygments_lexer": "ipython3",
      "version": "3.11.3"
    },
    "colab": {
      "provenance": []
    }
  },
  "nbformat": 4,
  "nbformat_minor": 0
}